{
 "cells": [
  {
   "cell_type": "code",
   "execution_count": 1,
   "id": "5b74044f",
   "metadata": {},
   "outputs": [],
   "source": [
    "\"\"\"\n",
    "importing all the libraries,keras library is only used for loading and converting the image to an array\n",
    "it's only used for training the model as it's a bit fast compared to opencv \n",
    "\n",
    "***imp***\n",
    "keras is not required for running the script as it is only used for training purposes\n",
    "***imp***\n",
    "\n",
    "\"\"\"\n",
    "import os\n",
    "import pandas as pd\n",
    "import seaborn as sns\n",
    "import numpy as np\n",
    "import matplotlib.pyplot as plt\n",
    "import cv2\n",
    "import numpy as np\n",
    "import torch\n",
    "from torch import nn\n",
    "import torchvision\n",
    "import torchvision.transforms as transforms\n",
    "from datetime import datetime\n",
    "import tensorflow\n",
    "from tensorflow.keras.preprocessing import image\n",
    "import torch.nn.functional as F\n",
    "import random\n",
    "def display(img):\n",
    "    fig=plt.figure(figsize=(12,10))\n",
    "    ax=fig.add_subplot(111)\n",
    "    ax.imshow(img,cmap=\"gray\")\n",
    "\n",
    "def fill(img, h, w):\n",
    "    img = cv2.resize(img, (h, w), cv2.INTER_CUBIC)\n",
    "    return img\n",
    "\n",
    "def load_img(filepath):\n",
    "  # load image and downsample\n",
    "  img = image.img_to_array(image.load_img(filepath,target_size=[60,80]))\n",
    "  return img.mean(axis=-1).astype(np.uint8)\n",
    "def horizontal_shift(img, ratio=0.0):\n",
    "    if ratio > 1 or ratio < 0:\n",
    "        print('Value should be less than 1 and greater than 0')\n",
    "        return img\n",
    "    ratio = random.uniform(-ratio, ratio)\n",
    "    h, w = img.shape[:2]\n",
    "    to_shift = w*ratio\n",
    "    if ratio > 0:\n",
    "        img = img[:, :int(w-to_shift)]\n",
    "    if ratio < 0:\n",
    "        img = img[:, int(-1*to_shift):]\n",
    "    img = fill(img, 80, 60)\n",
    "    return img\n",
    " \n",
    "def vertical_shift(img, ratio=0.0):\n",
    "    if ratio > 1 or ratio < 0:\n",
    "        print('Value should be less than 1 and greater than 0')\n",
    "        return img\n",
    "    ratio = random.uniform(-ratio, ratio)\n",
    "    h, w = img.shape[:2]\n",
    "    to_shift = h*ratio\n",
    "    if ratio > 0:\n",
    "        img = img[:int(h-to_shift), :]\n",
    "    if ratio < 0:\n",
    "        img = img[int(-1*to_shift):, :]\n",
    "    img = fill(img, 80, 60)\n",
    "    return img\n",
    " \n",
    "def zoom(img, value):\n",
    "    if value > 1 or value < 0:\n",
    "        print('Value for zoom should be less than 1 and greater than 0')\n",
    "        return img\n",
    "    value = random.uniform(value, 1)\n",
    "    h, w = img.shape[:2]\n",
    "    h_taken = int(value*h)\n",
    "    w_taken = int(value*w)\n",
    "    h_start = random.randint(0, h-h_taken)\n",
    "    w_start = random.randint(0, w-w_taken)\n",
    "    img = img[h_start:h_start+h_taken, w_start:w_start+w_taken]\n",
    "    img = fill(img, 80, 60)\n",
    "    return img\n",
    "def rotation(img, angle):\n",
    "    angle = int(random.uniform(-angle, angle))\n",
    "    h, w = img.shape[:2]\n",
    "    M = cv2.getRotationMatrix2D((int(w/2), int(h/2)), angle, 1)\n",
    "    img = cv2.warpAffine(img, M, (w, h))\n",
    "    img = fill(img, 80,60)\n",
    "    return img\n",
    "def horizontal_flip(img, flag):\n",
    "    if flag:\n",
    "        return cv2.flip(img, 1)\n",
    "    else:\n",
    "        return img\n",
    " \n",
    "def vertical_flip(img, flag):\n",
    "    if flag:\n",
    "        return cv2.flip(img, 0)\n",
    "    else:\n",
    "        return img\n"
   ]
  },
  {
   "cell_type": "code",
   "execution_count": 8,
   "id": "18c5298d",
   "metadata": {},
   "outputs": [
    {
     "name": "stdout",
     "output_type": "stream",
     "text": [
      "['trainset/0006/0006_0000630/0000004.jpg', 'trainset/0006/0006_0000630/0006_0000630_script.jpg', 'trainset/0006/0006_0000630/0000001.jpg']\n",
      "['trainset/0010/0010_0001633/0000004.jpg', 'trainset/0010/0010_0001633/0010_0001633_script.jpg']\n"
     ]
    }
   ],
   "source": [
    "\"\"\"\n",
    "looping through all the files and dividing them into train and test all the folders in 0010,0012 etc.\n",
    "are in test set and remaining all are in train set here each element in the list has the path of all the person photos as a list of lists\n",
    "\"\"\"\n",
    "\n",
    "\n",
    "train=[]\n",
    "test=[]\n",
    "files=os.listdir('trainset')\n",
    "for i in files:\n",
    "    if i not in ['0010','0012','0014']:\n",
    "        f=os.listdir('trainset/'+i)\n",
    "        for j in f:\n",
    "            s=os.listdir('trainset/'+i+'/'+j)\n",
    "            g=[]\n",
    "            for d in s:\n",
    "                g.append('trainset/'+i+'/'+j+'/'+d)\n",
    "            train.append(g)\n",
    "    else:\n",
    "        f=os.listdir('trainset/'+i)\n",
    "        for j in f:\n",
    "            s=os.listdir('trainset/'+i+'/'+j)\n",
    "            g=[]\n",
    "            for d in s:\n",
    "                g.append('trainset/'+i+'/'+j+'/'+d)\n",
    "            test.append(g)\n",
    "            \n",
    "print(train[3])\n",
    "print(test[0])\n"
   ]
  },
  {
   "cell_type": "code",
   "execution_count": 102,
   "id": "19b20636",
   "metadata": {},
   "outputs": [],
   "source": [
    "face_cascade = cv2.CascadeClassifier('haarcascade_frontalface_default.xml')\n",
    "\"\"\"\n",
    "instead of using face extractor in generators as it's taking too long we go through all the elements in the \n",
    "extract the faces using haar cascade classifier and extract the region replace that image with extracted using cv2.imwrite and for\n",
    "some images with no detected faces we delete them\n",
    "\"\"\"\n",
    "\n",
    "def harrapply():\n",
    "    for i in train:\n",
    "        for j in i:\n",
    "            gray=read(j,0)\n",
    "            faces = face_cascade.detectMultiScale(gray, 1.3, 5)\n",
    "            roi_gray=np.zeros((160,160))\n",
    "            for (x,y,w,h) in faces:\n",
    "                roi_gray = gray[y:y+h, x:x+w]\n",
    "            roi_gray=cv2.resize(roi_gray,(160,160))\n",
    "            cv2.imwrite(j,roi_gray)\n",
    "    count=0\n",
    "    for i in train:\n",
    "        for j in i:\n",
    "            gray=read(j,0)\n",
    "            if np.sum(gray)==0:\n",
    "                os.remove(j)\n",
    "harrapply()"
   ]
  },
  {
   "cell_type": "code",
   "execution_count": 12,
   "id": "93f88844",
   "metadata": {},
   "outputs": [
    {
     "name": "stdout",
     "output_type": "stream",
     "text": [
      "['trainset/0010/0010_0001633/0010_0001633_script.jpg', 'trainset/0010/0010_0001633/0000004.jpg']\n",
      "['trainset/0010/0010_0001593/0010_0001593_script.jpg', 'trainset/0010/0010_0001593/0000009.jpg', 'trainset/0010/0010_0001593/0000003.jpg']\n"
     ]
    }
   ],
   "source": [
    "\"\"\"\n",
    "here to make first element a passport photo we take all elements in .script as the first element of and remaining all as the se\n",
    "also removed the element which has multiple scripts as a single passport size photo is sufficient for a person\n",
    "\"\"\"\n",
    "tr=[]\n",
    "for i in train:\n",
    "    t1=[]\n",
    "    flag=True\n",
    "    for j in i:\n",
    "        if 'script' in j:\n",
    "            if flag:\n",
    "                t1.insert(0,j)\n",
    "            flag=False\n",
    "        else:\n",
    "            t1.append(j)\n",
    "    tr.append(t1)\n",
    "te=[]\n",
    "for i in test:\n",
    "    t1=[]\n",
    "    flag=True\n",
    "    for j in i:\n",
    "        if 'script' in j:\n",
    "            if flag:\n",
    "                t1.insert(0,j)\n",
    "            flag=False\n",
    "        else:\n",
    "            t1.append(j)\n",
    "    te.append(t1)\n",
    "print(te[0])\n",
    "print(te[1])"
   ]
  },
  {
   "cell_type": "code",
   "execution_count": 14,
   "id": "449e25b7",
   "metadata": {},
   "outputs": [
    {
     "name": "stdout",
     "output_type": "stream",
     "text": [
      "('trainset/0006/0006_0000602/0006_0000602_script_2.jpg', 'trainset/0006/0006_0000580/0000004.jpg')\n",
      "('trainset/0006/0006_0000602/0006_0000602_script_2.jpg', 'trainset/0006/0006_0000602/0000001.jpg')\n",
      "size of the positive pairs: 2774\n",
      "size of the negative pairs: 1403436\n"
     ]
    }
   ],
   "source": [
    "\"\"\"\n",
    "Here we divide our image into pairs if a list inside the list contains more than one element we pair them up if they belong to the same list \n",
    "element they will be added to the train positive and the script of that element to all the images in the other list elements will be \n",
    "added to the train negative list\n",
    "\"\"\"\n",
    "train_positive=[]\n",
    "train_negative=[]\n",
    "for i in range(len(tr)):\n",
    "        script=tr[i][0]\n",
    "        for j in range(1,len(tr[i])):\n",
    "            train_positive.append((script,tr[i][j]))\n",
    "        for k in range(i+1,len(tr)):\n",
    "            for l in range(1,len(tr[k])):\n",
    "                train_negative.append((script,tr[k][l])) \n",
    "test_positive=[]\n",
    "test_negative=[]\n",
    "for i in range(len(te)):\n",
    "        script=te[i][0]\n",
    "        for j in range(1,len(te[i])):\n",
    "            test_positive.append((script,te[i][j]))\n",
    "        for k in range(i+1,len(te)):\n",
    "            for l in range(1,len(te[k])):\n",
    "                test_negative.append((script,te[k][l])) \n",
    "\n",
    "print(train_negative[0])\n",
    "print(train_positive[0])\n",
    "print(\"size of the positive pairs:\",len(train_positive))\n",
    "print(\"size of the negative pairs:\",len(train_negative))"
   ]
  },
  {
   "cell_type": "code",
   "execution_count": 25,
   "id": "ce7f0daf",
   "metadata": {},
   "outputs": [],
   "source": [
    "\"\"\"\n",
    "Instead of reading all the images at once we use a generator to the read the image from the path as an array at training time\n",
    "and since the size of negative pairs is too high compared to positive and to avoid too much  class imbalance,\n",
    "we use np.random.choice to randomly select a list of size 448 from negatives and 64 from positives though there is still a class imabalance\n",
    "since size of train_negative is high to classify them properly i increased size of train_negative.\n",
    "\"\"\"\n",
    "def train_generator():\n",
    "    \n",
    "    np.random.shuffle(train_positive)\n",
    "    batch_size = 64\n",
    "    #number of batches\n",
    "    n_batches = int(np.ceil(len(train_positive) / batch_size))\n",
    "    while True:\n",
    "        n_samples = batch_size * 8\n",
    "        #height of weight of each sample of the image\n",
    "        H,W=60,80\n",
    "        shape = (n_samples, H, W)\n",
    "        #each batch is of size(512,60,80) 512 images each of size (60,80)\n",
    "        x_batch1 = np.zeros(shape)\n",
    "        x_batch2 = np.zeros(shape)\n",
    "        y_batch = np.zeros(n_samples)\n",
    "        for i in range(n_batches):\n",
    "            pos_batch_indices = train_positive[i * batch_size: (i + 1) * batch_size]\n",
    "            j=0\n",
    "            for pos in pos_batch_indices:\n",
    "                #we load the image and divide it by 255 to change the range to 0-1 for faster computations\n",
    "                img1=load_img(pos[0])/255\n",
    "                img2=load_img(pos[1])/255\n",
    "                \n",
    "                x_batch1[j]=img1\n",
    "                x_batch2[j]=img2\n",
    "                #label 1 for negative\n",
    "                y_batch[j]=1\n",
    "                \n",
    "                j+=1\n",
    "            neg_indices = np.random.choice(len(train_negative), size=7*len(pos_batch_indices), replace=False)\n",
    "            for neg in neg_indices:\n",
    "                img1=load_img(train_negative[neg][0])/255\n",
    "                img2=load_img(train_negative[neg][1])/255\n",
    "                x_batch1[j]=img1\n",
    "                x_batch2[j]=img2\n",
    "                #label 0 for negative\n",
    "                y_batch[j]=0\n",
    "                j+=1\n",
    "            #To reduce overfitting which was happening at start out of 512 images in the batch we randomly rotate,shift or zoom \n",
    "            #25% of the images\n",
    "            randomrotate = np.random.choice(j, size=35, replace=False)\n",
    "            randomhshift=np.random.choice(j,size=35,replace=False)\n",
    "            randomvshift = np.random.choice(j, size=35, replace=False)\n",
    "            randomzoom=np.random.choice(j,size=35,replace=False)\n",
    "            for i in randomrotate:\n",
    "                x_batch1[i]=rotation(x_batch1[i],np.random.choice([-30,-15,15,30],1)[0])\n",
    "            for i in randomhshift:\n",
    "                x_batch1[i]=horizontal_shift(x_batch1[i],np.random.choice([0.1,0.15,0.2,0.3],1)[0])\n",
    "            for i in randomvshift:\n",
    "                x_batch1[i]=vertical_shift(x_batch1[i],np.random.choice([0.1,0.15,0.2,0.25],1)[0])\n",
    "            for i in randomzoom:\n",
    "                x_batch1[i]=zoom(x_batch1[i],np.random.choice([0.1,0.15,0.2,0.25],1)[0])\n",
    "            x1=x_batch1[:j]\n",
    "            x2=x_batch2[:j]\n",
    "            y=y_batch[:j]\n",
    "            \n",
    "            x1=x1.reshape(-1,1,H,W)\n",
    "            x2=x2.reshape(-1,1,H,W)\n",
    "            #we convert this to tensors as pytorch only accepts tensors as input\n",
    "            x1 = torch.from_numpy(x1).float()\n",
    "            x2 = torch.from_numpy(x2).float()\n",
    "            y = torch.from_numpy(y).float()\n",
    "            yield [x1,x2],y\n",
    "#similar as train but for all the test samples\n",
    "def test_generator():\n",
    "\n",
    "    batch_size = 10\n",
    "    n_batches = int(np.ceil(len(test_positive) / batch_size))\n",
    "    while True:\n",
    "        n_samples = batch_size * 2\n",
    "        H,W=60,80\n",
    "        shape = (n_samples, H, W)\n",
    "        x_batch1 = np.zeros(shape)\n",
    "        x_batch2 = np.zeros(shape)\n",
    "        y_batch = np.zeros(n_samples)\n",
    "        for i in range(n_batches):\n",
    "            pos_batch_indices = test_positive[i * batch_size: (i + 1) * batch_size]\n",
    "            j=0\n",
    "            for pos in pos_batch_indices:\n",
    "                img1=load_img(pos[0])/255\n",
    "                img2=load_img(pos[1])/255\n",
    "                \n",
    "                x_batch1[j]=img1\n",
    "                x_batch2[j]=img2\n",
    "                y_batch[j]=1\n",
    "                j+=1\n",
    "            neg_indices = np.random.choice(len(test_negative), size=len(pos_batch_indices), replace=False)\n",
    "            for neg in neg_indices:\n",
    "                img1=load_img(test_negative[neg][0])/255\n",
    "                img2=load_img(test_negative[neg][1])/255\n",
    "                x_batch1[j]=img1\n",
    "                x_batch2[j]=img2\n",
    "                y_batch[j]=0\n",
    "                j+=1\n",
    "            x1=x_batch1[:j]\n",
    "            x2=x_batch2[:j]\n",
    "            y=y_batch[:j]\n",
    "\n",
    "            x1=x1.reshape(-1,1,H,W)\n",
    "            x2=x2.reshape(-1,1,H,W)\n",
    "\n",
    "            x1 = torch.from_numpy(x1).float()\n",
    "            x2 = torch.from_numpy(x2).float()\n",
    "            y = torch.from_numpy(y).float()\n",
    "            yield [x1,x2],y\n"
   ]
  },
  {
   "cell_type": "code",
   "execution_count": 35,
   "id": "d1e8deba",
   "metadata": {},
   "outputs": [],
   "source": [
    "\"\"\"\n",
    "Here the approach i used is use a cnn to generate two feature vectors one for passport image and the other for the second image and return \n",
    "a euclidean distance between the two as the output and loss function i used is contrastive loss it is the most used in siamese networks\n",
    "and how it works is when distance b/w two positive pairs(y) is high since t=1 for a postive pair output is t*(y^2) the higher the y higher\n",
    "is the loss and for the negative pair lower the y higher is the loss and the optimizer used is adam\n",
    "\"\"\"\n",
    "# building the model\n",
    "class SiameseNN(nn.Module):\n",
    "  def __init__(self):\n",
    "    super(SiameseNN, self).__init__()\n",
    "\n",
    "    # define CNN featurizer\n",
    "    self.cnn = nn.Sequential(\n",
    "            #a conv2d with a kernel size of 3 and a filter size of 32 and input feature of size 1\n",
    "            nn.Conv2d(1, 32, kernel_size=3),\n",
    "            #batch normalization\n",
    "            nn.BatchNorm2d(32),\n",
    "            #relu activation\n",
    "            nn.ReLU(),\n",
    "            #maxpool of kernel size 2\n",
    "            nn.MaxPool2d(2),\n",
    "            #a conv2d with a kernel size of 3 and a filter size of 64 and input feature of size 32\n",
    "            nn.Conv2d(32, 64, kernel_size=3),\n",
    "            #batch normalization\n",
    "            nn.BatchNorm2d(64),\n",
    "            #relu activation\n",
    "            nn.ReLU(),\n",
    "            #maxpool of kernel size 2\n",
    "            nn.MaxPool2d(2),\n",
    "            #flatten the output layer to feed it fully connected layer\n",
    "            nn.Flatten(),\n",
    "            #fully connected layer of output size 128 and input of 14976 from the conv layer\n",
    "            nn.Linear(14976, 128),\n",
    "            #relu activation\n",
    "            nn.ReLU(),\n",
    "            #fully connected layer of output size 50 and input of 128 from the previous fc layer\n",
    "            nn.Linear(128, 50)\n",
    "        )\n",
    "  #we take two images and generate a 50 dimensional feature vector for the two images\n",
    "  def forward(self, im1, im2):\n",
    "    feat1 = self.cnn(im1)\n",
    "    feat2 = self.cnn(im2)\n",
    "    #euclidean distance of two 50 dimensional feature vectors\n",
    "    return torch.norm(feat1 - feat2, dim=-1)\n",
    "#call the model\n",
    "model = SiameseNN()\n",
    "#sending the model to the gpu\n",
    "device = torch.device(\"cuda:0\" if torch.cuda.is_available() else \"cpu\")\n",
    "model.to(device)\n",
    "# loss function for siamese network\n",
    "def contrastive_loss(y, t):\n",
    "  nonmatch = F.relu(1 - y) # max(margin - y, 0)\n",
    "  return torch.mean(t * y**2 + (1 - t) * nonmatch**2)\n",
    "#defining the optimizer for the neural network\n",
    "optimizer = torch.optim.Adam(model.parameters())"
   ]
  },
  {
   "cell_type": "code",
   "execution_count": 254,
   "id": "00ecbb82",
   "metadata": {},
   "outputs": [],
   "source": [
    "#predict which takes two image arrays as an input and returns output of the siamese network\n",
    "def predict(x1, x2):\n",
    "  x1=x1.reshape(1,1,60,80)\n",
    "  x2=x2.reshape(1,1,60,80)\n",
    "  #convert numpy array to torch tensors and sending them to the gpu\n",
    "  x1 = torch.from_numpy(x1).float().to(device)\n",
    "  x2 = torch.from_numpy(x2).float().to(device)\n",
    "  #evaluating the model without gradient descent\n",
    "  with torch.no_grad():\n",
    "    #after evaluating the model we load the model in the cpu and convert it into a numpy array\n",
    "    dist = model(x1, x2).cpu().numpy()\n",
    "    return dist.flatten()"
   ]
  },
  {
   "cell_type": "code",
   "execution_count": 46,
   "id": "ce9c052e",
   "metadata": {},
   "outputs": [],
   "source": [
    "#here we use batch gradient descent instead of using the entire sample\n",
    "def batch_gd(model,criterion,optimizer,train_gen,test_gen,train_steps_per_epoch,test_steps_per_epoch,epochs):\n",
    "  train_losses = np.zeros(epochs)\n",
    "  test_losses = np.zeros(epochs)\n",
    "  train_loss,test_loss = [],[]\n",
    "  for ep in range(epochs):\n",
    "    #when training the model\n",
    "    model.train()\n",
    "    steps = 0\n",
    "    for (x1, x2), targets in train_gen:\n",
    "      # move data to GPU\n",
    "      x1, x2, targets = x1.to(device), x2.to(device), targets.to(device)\n",
    "\n",
    "      # zero the parameter gradients\n",
    "      optimizer.zero_grad()\n",
    "\n",
    "      # forward pass\n",
    "      outputs = model(x1, x2)\n",
    "      #calculate the loss\n",
    "      loss = criterion(outputs, targets)      \n",
    "      # Backward and optimize\n",
    "      loss.backward()\n",
    "      optimizer.step()\n",
    "      #append it to the train_loss list\n",
    "      train_loss.append(loss.item())\n",
    "      # Update steps\n",
    "      steps += 1\n",
    "      if steps >= train_steps_per_epoch:\n",
    "        break\n",
    "    #calculate the mean of all the steps\n",
    "    train_losses[ep] = np.mean(train_loss)\n",
    "    #evaluating the model we use this to avoid backprop\n",
    "    model.eval()\n",
    "    steps = 0\n",
    "    for (x1, x2), targets in test_gen:\n",
    "      x1, x2, targets = x1.to(device), x2.to(device), targets.to(device)\n",
    "      outputs = model(x1, x2)\n",
    "      loss = criterion(outputs, targets)\n",
    "      test_loss.append(loss.item())\n",
    "      steps += 1\n",
    "      if steps >= test_steps_per_epoch:\n",
    "        break\n",
    "    test_losses[ep] = np.mean(test_loss)\n",
    "    print(f'Epoch {ep+1}/{epochs}, Train Loss: {train_losses[ep]:.4f},test Loss: {test_losses[ep]:.4f}')\n",
    "  return train_losses, test_losses\n"
   ]
  },
  {
   "cell_type": "code",
   "execution_count": 47,
   "id": "97b0e209",
   "metadata": {},
   "outputs": [
    {
     "name": "stdout",
     "output_type": "stream",
     "text": [
      "Epoch 1/60, Train Loss: 0.1932,test Loss: 0.4860\n",
      "Epoch 2/60, Train Loss: 0.1675,test Loss: 0.3015\n",
      "Epoch 3/60, Train Loss: 0.1510,test Loss: 0.3603\n",
      "Epoch 4/60, Train Loss: 0.1407,test Loss: 0.2616\n",
      "Epoch 5/60, Train Loss: 0.1333,test Loss: 0.3010\n",
      "Epoch 6/60, Train Loss: 0.1271,test Loss: 0.1917\n",
      "Epoch 7/60, Train Loss: 0.1224,test Loss: 0.4147\n",
      "Epoch 8/60, Train Loss: 0.1187,test Loss: 0.2253\n",
      "Epoch 9/60, Train Loss: 0.1153,test Loss: 0.2591\n",
      "Epoch 10/60, Train Loss: 0.1121,test Loss: 0.3259\n",
      "Epoch 11/60, Train Loss: 0.1091,test Loss: 0.2215\n",
      "Epoch 12/60, Train Loss: 0.1065,test Loss: 0.3176\n",
      "Epoch 13/60, Train Loss: 0.1042,test Loss: 0.3106\n",
      "Epoch 14/60, Train Loss: 0.1020,test Loss: 0.3382\n",
      "Epoch 15/60, Train Loss: 0.0999,test Loss: 0.2202\n",
      "Epoch 16/60, Train Loss: 0.0981,test Loss: 0.2337\n",
      "Epoch 17/60, Train Loss: 0.0964,test Loss: 0.1467\n",
      "Epoch 18/60, Train Loss: 0.0950,test Loss: 0.1465\n",
      "Epoch 19/60, Train Loss: 0.0934,test Loss: 0.2999\n",
      "Epoch 20/60, Train Loss: 0.0922,test Loss: 0.2823\n",
      "Epoch 21/60, Train Loss: 0.0909,test Loss: 0.2753\n",
      "Epoch 22/60, Train Loss: 0.0897,test Loss: 0.2653\n",
      "Epoch 23/60, Train Loss: 0.0885,test Loss: 0.4233\n",
      "Epoch 24/60, Train Loss: 0.0874,test Loss: 0.2436\n",
      "Epoch 25/60, Train Loss: 0.0863,test Loss: 0.2736\n",
      "Epoch 26/60, Train Loss: 0.0853,test Loss: 0.4724\n",
      "Epoch 27/60, Train Loss: 0.0843,test Loss: 0.2741\n",
      "Epoch 28/60, Train Loss: 0.0834,test Loss: 0.3929\n",
      "Epoch 29/60, Train Loss: 0.0825,test Loss: 0.3080\n",
      "Epoch 30/60, Train Loss: 0.0816,test Loss: 0.2907\n",
      "Epoch 31/60, Train Loss: 0.0807,test Loss: 0.2040\n",
      "Epoch 32/60, Train Loss: 0.0799,test Loss: 0.2519\n",
      "Epoch 33/60, Train Loss: 0.0790,test Loss: 0.4310\n",
      "Epoch 34/60, Train Loss: 0.0782,test Loss: 0.4224\n",
      "Epoch 35/60, Train Loss: 0.0775,test Loss: 0.3542\n",
      "Epoch 36/60, Train Loss: 0.0768,test Loss: 0.2715\n",
      "Epoch 37/60, Train Loss: 0.0760,test Loss: 0.3511\n",
      "Epoch 38/60, Train Loss: 0.0753,test Loss: 0.3052\n",
      "Epoch 39/60, Train Loss: 0.0746,test Loss: 0.3182\n",
      "Epoch 40/60, Train Loss: 0.0740,test Loss: 0.4101\n",
      "Epoch 41/60, Train Loss: 0.0734,test Loss: 0.2345\n",
      "Epoch 42/60, Train Loss: 0.0727,test Loss: 0.3657\n",
      "Epoch 43/60, Train Loss: 0.0721,test Loss: 0.2979\n",
      "Epoch 44/60, Train Loss: 0.0716,test Loss: 0.2271\n",
      "Epoch 45/60, Train Loss: 0.0711,test Loss: 0.2011\n",
      "Epoch 46/60, Train Loss: 0.0706,test Loss: 0.2217\n",
      "Epoch 47/60, Train Loss: 0.0701,test Loss: 0.3021\n",
      "Epoch 48/60, Train Loss: 0.0696,test Loss: 0.3344\n",
      "Epoch 49/60, Train Loss: 0.0691,test Loss: 0.3052\n",
      "Epoch 50/60, Train Loss: 0.0686,test Loss: 0.2129\n",
      "Epoch 51/60, Train Loss: 0.0682,test Loss: 0.3958\n",
      "Epoch 52/60, Train Loss: 0.0677,test Loss: 0.2875\n",
      "Epoch 53/60, Train Loss: 0.0672,test Loss: 0.3722\n",
      "Epoch 54/60, Train Loss: 0.0668,test Loss: 0.4491\n",
      "Epoch 55/60, Train Loss: 0.0664,test Loss: 0.2458\n",
      "Epoch 56/60, Train Loss: 0.0660,test Loss: 0.3313\n",
      "Epoch 57/60, Train Loss: 0.0656,test Loss: 0.3970\n",
      "Epoch 58/60, Train Loss: 0.0653,test Loss: 0.3279\n",
      "Epoch 59/60, Train Loss: 0.0649,test Loss: 0.1755\n",
      "Epoch 60/60, Train Loss: 0.0645,test Loss: 0.1410\n"
     ]
    }
   ],
   "source": [
    "#batch size of size 64 for train_positive and size 7*64 for train_negative\n",
    "batch_size=64\n",
    "train_steps = int(np.ceil(len(train_positive) / batch_size))\n",
    "test_steps = int(np.ceil(len(test_positive) / batch_size))\n",
    "train_losses, test_losses = batch_gd(model,contrastive_loss,optimizer,train_generator(),test_generator(),train_steps,test_steps,epochs=60)"
   ]
  },
  {
   "cell_type": "code",
   "execution_count": 85,
   "id": "28afc671",
   "metadata": {},
   "outputs": [
    {
     "data": {
      "text/plain": [
       "<matplotlib.legend.Legend at 0x7fcebd31ae90>"
      ]
     },
     "execution_count": 85,
     "metadata": {},
     "output_type": "execute_result"
    },
    {
     "data": {
      "image/png": "[encoded data removed]",
      "text/plain": [
       "<Figure size 432x288 with 1 Axes>"
      ]
     },
     "metadata": {
      "needs_background": "light"
     },
     "output_type": "display_data"
    }
   ],
   "source": [
    "#plotting how the losses go for the epochs\n",
    "plt.plot(train_losses,label=\"train_loss\")\n",
    "plt.plot(test_losses,label=\"test_loss\")\n",
    "plt.legend()"
   ]
  },
  {
   "cell_type": "code",
   "execution_count": 95,
   "id": "9635f883",
   "metadata": {},
   "outputs": [],
   "source": [
    "#save the model\n",
    "torch.save(model,\"face\")"
   ]
  },
  {
   "cell_type": "code",
   "execution_count": 258,
   "id": "9ffb635b",
   "metadata": {},
   "outputs": [],
   "source": [
    "#load the model\n",
    "model=torch.load(\"face\")"
   ]
  },
  {
   "cell_type": "code",
   "execution_count": 153,
   "id": "599717c8",
   "metadata": {},
   "outputs": [
    {
     "name": "stdout",
     "output_type": "stream",
     "text": [
      "train accuracy:90.83\n"
     ]
    }
   ],
   "source": [
    "#checking the accuracy for the train_set\n",
    "count=0\n",
    " #i used a distance paramater=0.8 if the distance is less than 0.8 it is a match else it is not\n",
    "dist1=[]\n",
    "for i in range(len(train_positive)):\n",
    "    x1=load_img(train_positive[i][0])/255\n",
    "    x2=load_img(train_positive[i][1])/255\n",
    "    d=predict(x1,x2)\n",
    "    dist1.append(d[0])\n",
    "    #if distance is less than 0.8 you increment the count\n",
    "    if(d[0]<0.8):\n",
    "        count+=1\n",
    "#and you divide the count with total length to get accuracy and it is also similary done for negative samples\n",
    "pos=count/len(train_positive)\n",
    "count=0\n",
    "size=len(train_positive)\n",
    "neg_indices = np.random.choice(len(train_negative), size=size, replace=False)\n",
    "dist2=[]\n",
    "for i in neg_indices:\n",
    "    x1=load_img(train_negative[i][0])/255\n",
    "    x2=load_img(train_negative[i][1])/255\n",
    "    x1=x1.reshape(1,1,60,80)\n",
    "    x2=x2.reshape(1,1,60,80)\n",
    "    d=predict(x1,x2)\n",
    "    dist2.append(d[0])\n",
    "    if(d[0]>0.8):\n",
    "        count+=1\n",
    "neg=count/size\n",
    "acc=((pos+neg)/2)*100\n",
    "print(f\"train accuracy:{acc:.2f}\")"
   ]
  },
  {
   "cell_type": "code",
   "execution_count": 116,
   "id": "adfa9a3f",
   "metadata": {},
   "outputs": [
    {
     "data": {
      "image/png": "[encoded data removed]",
      "text/plain": [
       "<Figure size 432x288 with 1 Axes>"
      ]
     },
     "metadata": {
      "needs_background": "light"
     },
     "output_type": "display_data"
    }
   ],
   "source": [
    "#distances split b/w train_positve and train_negative\n",
    "bins = np.linspace(0, 3, 450)\n",
    "plt.hist(dist1, bins, alpha=0.6, label='x')\n",
    "plt.hist(dist2, bins, alpha=0.6, label='y')\n",
    "plt.legend(loc='upper right')\n",
    "plt.show()"
   ]
  },
  {
   "cell_type": "code",
   "execution_count": 180,
   "id": "3443722e",
   "metadata": {},
   "outputs": [
    {
     "name": "stdout",
     "output_type": "stream",
     "text": [
      "test accuracy:78.83\n"
     ]
    }
   ],
   "source": [
    "#checking the accuracy for the test_set\n",
    "count1=0\n",
    "dist1=[]\n",
    "for i in range(len(test_positive)):\n",
    "    x1=load_img(test_positive[i][0])/255\n",
    "    x2=load_img(test_positive[i][1])/255\n",
    "    d=predict(x1,x2)\n",
    "    if(d[0]<0.8):\n",
    "        count1+=1\n",
    "    dist1.append(d[0])\n",
    "pos=count1/len(test_positive)\n",
    "dist2=[]\n",
    "count=0\n",
    "size=len(test_positive)\n",
    "neg_indices = np.random.choice(len(test_negative), size=size, replace=False)\n",
    "for i in neg_indices:\n",
    "    x1=load_img(test_negative[i][0])/255\n",
    "    x2=load_img(test_negative[i][1])/255\n",
    "    d=predict(x1,x2)\n",
    "    if(d[0]>0.8):\n",
    "        count+=1\n",
    "    dist2.append(d[0])\n",
    "neg=count/size\n",
    "acc=((pos+neg)/2)*100\n",
    "print(f\"test accuracy:{acc:.2f}\")"
   ]
  },
  {
   "cell_type": "code",
   "execution_count": 181,
   "id": "edfb3c00",
   "metadata": {},
   "outputs": [
    {
     "data": {
      "image/png": "[encoded data removed]",
      "text/plain": [
       "<Figure size 432x288 with 1 Axes>"
      ]
     },
     "metadata": {
      "needs_background": "light"
     },
     "output_type": "display_data"
    }
   ],
   "source": [
    "#distances split b/w test_positve and test_negative\n",
    "bins = np.linspace(0, 3, 50)\n",
    "plt.hist(dist1, bins, alpha=0.6, label='x')\n",
    "plt.hist(dist2, bins, alpha=0.6, label='y')\n",
    "plt.legend(loc='upper right')\n",
    "plt.show()"
   ]
  },
  {
   "cell_type": "code",
   "execution_count": 277,
   "id": "430e8f6f",
   "metadata": {},
   "outputs": [
    {
     "data": {
      "text/plain": [
       "<matplotlib.image.AxesImage at 0x7fce88f1b990>"
      ]
     },
     "execution_count": 277,
     "metadata": {},
     "output_type": "execute_result"
    },
    {
     "data": {
      "image/png": "[encoded data removed]",
      "text/plain": [
       "<Figure size 432x288 with 1 Axes>"
      ]
     },
     "metadata": {
      "needs_background": "light"
     },
     "output_type": "display_data"
    }
   ],
   "source": [
    "#testing for a random image in the positive set \n",
    "k=np.random.choice(len(test_positive), size=1, replace=False)[0]\n",
    "#loading the passport photo\n",
    "im1=load_img(test_positive[k][0])/255\n",
    "plt.imshow(im1,cmap=\"gray\")"
   ]
  },
  {
   "cell_type": "code",
   "execution_count": 278,
   "id": "4b2efe4a",
   "metadata": {},
   "outputs": [
    {
     "data": {
      "text/plain": [
       "<matplotlib.image.AxesImage at 0x7fce88eb3d90>"
      ]
     },
     "execution_count": 278,
     "metadata": {},
     "output_type": "execute_result"
    },
    {
     "data": {
      "image/png": "[encoded data removed]",
      "text/plain": [
       "<Figure size 432x288 with 1 Axes>"
      ]
     },
     "metadata": {
      "needs_background": "light"
     },
     "output_type": "display_data"
    }
   ],
   "source": [
    "#loading the selfie\n",
    "im2=load_img(test_positive[k][1])/255\n",
    "plt.imshow(im2,cmap=\"gray\")"
   ]
  },
  {
   "cell_type": "code",
   "execution_count": 280,
   "id": "5fba3c6a",
   "metadata": {},
   "outputs": [
    {
     "name": "stdout",
     "output_type": "stream",
     "text": [
      "it's a match\n"
     ]
    }
   ],
   "source": [
    "#load the model\n",
    "d=predict(im1,im2)\n",
    "if(d[0]<0.8):\n",
    "        print(\"it's a match\")"
   ]
  },
  {
   "cell_type": "code",
   "execution_count": 251,
   "id": "b3c25235",
   "metadata": {},
   "outputs": [
    {
     "data": {
      "text/plain": [
       "<matplotlib.image.AxesImage at 0x7fce8964fa50>"
      ]
     },
     "execution_count": 251,
     "metadata": {},
     "output_type": "execute_result"
    },
    {
     "data": {
      "image/png": "[encoded data removed]",
      "text/plain": [
       "<Figure size 432x288 with 1 Axes>"
      ]
     },
     "metadata": {
      "needs_background": "light"
     },
     "output_type": "display_data"
    }
   ],
   "source": [
    "#testing for a random image in the negative set \n",
    "k=np.random.choice(len(test_negative), size=1, replace=False)[0]\n",
    "#loading the passport size photo\n",
    "im1=load_img(test_negative[k][0])/255\n",
    "plt.imshow(im1,cmap=\"gray\")"
   ]
  },
  {
   "cell_type": "code",
   "execution_count": 252,
   "id": "8fb96f6b",
   "metadata": {},
   "outputs": [
    {
     "data": {
      "text/plain": [
       "<matplotlib.image.AxesImage at 0x7fce895dcf10>"
      ]
     },
     "execution_count": 252,
     "metadata": {},
     "output_type": "execute_result"
    },
    {
     "data": {
      "image/png": "[encoded data removed]",
      "text/plain": [
       "<Figure size 432x288 with 1 Axes>"
      ]
     },
     "metadata": {
      "needs_background": "light"
     },
     "output_type": "display_data"
    }
   ],
   "source": [
    "#loading the selfie\n",
    "im2=load_img(test_negative[k][1])/255\n",
    "plt.imshow(im2,cmap=\"gray\")"
   ]
  },
  {
   "cell_type": "code",
   "execution_count": 259,
   "id": "3bb48c6d",
   "metadata": {},
   "outputs": [
    {
     "name": "stdout",
     "output_type": "stream",
     "text": [
      "no match\n"
     ]
    }
   ],
   "source": [
    "#testing for the above two images\n",
    "d=predict(im1,im2)\n",
    "if(d[0]>0.8):\n",
    "        print(\"no match\")"
   ]
  },
  {
   "cell_type": "code",
   "execution_count": null,
   "id": "ccf97518",
   "metadata": {},
   "outputs": [],
   "source": []
  },
  {
   "cell_type": "code",
   "execution_count": null,
   "id": "2d0fedca",
   "metadata": {},
   "outputs": [],
   "source": []
  }
 ],
 "metadata": {
  "environment": {
   "name": "pytorch-gpu.1-8.m69",
   "type": "gcloud",
   "uri": "gcr.io/deeplearning-platform-release/pytorch-gpu.1-8:m69"
  },
  "kernelspec": {
   "display_name": "Python 3",
   "language": "python",
   "name": "python3"
  },
  "language_info": {
   "codemirror_mode": {
    "name": "ipython",
    "version": 3
   },
   "file_extension": ".py",
   "mimetype": "text/x-python",
   "name": "python",
   "nbconvert_exporter": "python",
   "pygments_lexer": "ipython3",
   "version": "3.8.0"
  }
 },
 "nbformat": 4,
 "nbformat_minor": 5
}
